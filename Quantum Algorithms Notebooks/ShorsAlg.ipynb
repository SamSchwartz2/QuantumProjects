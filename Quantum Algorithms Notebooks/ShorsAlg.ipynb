{
 "cells": [
  {
   "cell_type": "markdown",
   "id": "c4e00f32",
   "metadata": {},
   "source": [
    "# Quantum Programming Lab3"
   ]
  },
  {
   "cell_type": "code",
   "execution_count": 91,
   "id": "a43b209c",
   "metadata": {},
   "outputs": [],
   "source": [
    "from qiskit import *\n",
    "from qiskit_aer import AerSimulator\n",
    "import numpy as np\n",
    "from qiskit.quantum_info import Operator\n",
    "from qiskit.visualization import plot_histogram\n",
    "import matplotlib.pyplot as plt"
   ]
  },
  {
   "cell_type": "markdown",
   "id": "26a27138-f90d-489d-b84e-5b25c4aa943b",
   "metadata": {},
   "source": [
    "## Part 1: Quantum circuit for Shor's algorithm"
   ]
  },
  {
   "cell_type": "markdown",
   "id": "2e0c0b1c-8ed4-4141-8290-226a9e0949a2",
   "metadata": {},
   "source": [
    "Construct a compiled version of quantum circuit for Shor's algorithm.\n",
    "\n",
    "Shor's algorithm consists of the following steps; choose a co-prime \n",
    "$a$, where $a \\in [2,N-1]$ and the greatest common divisor of  $a$ and $N$ is 1, find the order of $a$ modulo $N$, the smallest integer $r$\n",
    "such that $a^r \\mod N=1$, and then obtain the factor of $N$ by computing the greatst common divisor of $a^{r/2} \\pm 1$ and $N$. In this procedure, the second step, finding the order of $a$ modulo $N$, is the only quantum part, quantum order-finding.\n",
    "\n",
    "In Ch.3.9 Shor's Algorithm https://github.com/Qiskit/textbook/blob/main/notebooks/ch-algorithms/shor.ipynb,\n",
    "we built a quantum circuit to find the order for $a=7$ and $N=15$. However, as we are very well aware by now, such a large depth circuit is not practical to run on near-term quantum systems due to the presence of noise. Here in part 1 of this lab, we construct a practical quantum circuit for the same example, which could generate a meaningful solution when executed on today's quantum computers.\n",
    "\n",
    "In general, the quantum order-finding circuit to factorize the number $N$ requires $m=\\log_2(N)$ qubits in the computational (auxiliary) register and \n",
    "$2m(=t)$ qubit in the period (counting) registers .i.e. total $3m$ qubits, at minimum. Therefore, $12$ qubits were used in the quantum circuit to factorize the number 15 in Shor's Algorithm. In addition, the cotrolled unitary operator for the modular function, $f(x)=a^{x} \\mod N$ was applied in a cascading manner as shown in the figure below to produce the highly entangled state $\\sum_{x=0}^{2^m-1}\\ket{x}\\ket{a^x \\mod N}$, which increseas the circuit depth substantially. However the size of the circuit can be reduced based on several observations."
   ]
  },
  {
   "cell_type": "markdown",
   "id": "ff091365-5757-42f0-81db-dbec38c2ebf0",
   "metadata": {},
   "source": [
    "### StepA:  Run the following cell to create the gate $U$ for the function $7\\mod15$.\n",
    "The unitary operator $U$ is defined as $U\\ket{x}\\equiv \\ket{7x(\\mod 15)}$"
   ]
  },
  {
   "cell_type": "code",
   "execution_count": 92,
   "id": "f1ec3e2c",
   "metadata": {},
   "outputs": [],
   "source": [
    "## Create 7mod15 gate\n",
    "N = 15\n",
    "m = int(np.ceil(np.log2(N)))\n",
    "\n",
    "U_qc = QuantumCircuit(m)\n",
    "U_qc.x(range(m))\n",
    "U_qc.swap(1, 2)\n",
    "U_qc.swap(2, 3)\n",
    "U_qc.swap(0, 3)\n",
    "U_qc.draw(output = 'mpl')\n",
    "U = U_qc.to_gate()\n",
    "U.name ='{}Mod{}'.format(7, N)"
   ]
  },
  {
   "cell_type": "markdown",
   "id": "fbd0644f-8774-49cb-a09d-8db5fd381ecf",
   "metadata": {},
   "source": [
    "Confirm if the unitary operator works properly by creating a quantum circuit with $m$ qubits. Prepare the input state representing any integer between 0 and 15 (exclusive) such as $\\ket{1}(=\\ket{0001})$, $\\ket{5}(=\\ket{0101})$, $\\ket{13}(=\\ket{0101})$ etc, and apply $U$ gate on it. Check if the circuit produces the expected outcomes for several inputs. The outcome state for the input $\\ket{1}$ should be $\\ket{7}(=\\ket{0111})$ and \n",
    " $\\ket{1}$ for the input $\\ket{13}$, for example."
   ]
  },
  {
   "cell_type": "code",
   "execution_count": 93,
   "id": "cb9b916f-951e-461b-89a5-ae7ca651111d",
   "metadata": {},
   "outputs": [
    {
     "name": "stdout",
     "output_type": "stream",
     "text": [
      "{'0111': 1000}\n",
      "{'0001': 1000}\n"
     ]
    }
   ],
   "source": [
    "## Your code here\n",
    "backend = AerSimulator()\n",
    "\n",
    "#testing for |1>\n",
    "qc_testU1 = QuantumCircuit(m,m)\n",
    "qc_testU1.x(0) #gives us |0001> = 1\n",
    "qc_testU1.append(U, range(m))\n",
    "for i in range(m):\n",
    "    qc_testU1.measure(i,i)\n",
    "tc1 = transpile(qc_testU1, backend)\n",
    "job = backend.run(tc1, shots=1000, memory=True)\n",
    "count_QPE= job.result().get_counts()\n",
    "print(count_QPE)\n",
    "\n",
    "#testing for |13>\n",
    "qc_testU2 = QuantumCircuit(m,m)\n",
    "qc_testU2.x(0)\n",
    "qc_testU2.x(2)\n",
    "qc_testU2.x(3) #this gives |1101> = 13\n",
    "qc_testU2.append(U, range(m))\n",
    "for i in range(m):\n",
    "    qc_testU2.measure(i,i)\n",
    "tc2 = transpile(qc_testU2, backend)\n",
    "job = backend.run(tc2, shots=1000, memory=True)\n",
    "count_QPE= job.result().get_counts()\n",
    "print(count_QPE)\n"
   ]
  },
  {
   "cell_type": "markdown",
   "id": "be06fff3-e66e-4248-85d6-14351195f2f0",
   "metadata": {},
   "source": [
    "### StepB:  Create a quantum circuit with $m$ qubits implementing $U$ gate $4=2^2$ times and run it using Operator(Which was imported in the first code block) to obtain the matrix resprentation of the gates in the circuit. Verify $U^{2^2}=I$\n"
   ]
  },
  {
   "cell_type": "markdown",
   "id": "b4fbbd68-71d9-4a04-a247-9b4bcae8a409",
   "metadata": {},
   "source": [
    "As shown in the above figure, modular exponentiation is realized by implementing the controlled unitary operator on each qubit \n",
    "$2^n$ times in series when $n$ goes from $0$ to $7$ for our example. However, we will find out that whole sets of operations are redundant when \n",
    "$n>1$ for $7\\mod15$ case, hence the redundant operation can be removed from the circuit."
   ]
  },
  {
   "cell_type": "code",
   "execution_count": 94,
   "id": "16f50617-8509-4d90-8ea7-9906e95ab73b",
   "metadata": {},
   "outputs": [
    {
     "name": "stdout",
     "output_type": "stream",
     "text": [
      "True\n"
     ]
    }
   ],
   "source": [
    "## Your code here\n",
    "qcb = QuantumCircuit(m) #circuit applying U 4 times\n",
    "qcb_id = QuantumCircuit(m) #circuit applying Identity\n",
    "for i in range(4):\n",
    "    qcb.append(U, range(m))\n",
    "op = Operator(qcb) #operator of U circuit\n",
    "op_identity = Operator(qcb_id) #operator of Identity\n",
    "print((op == op_identity)) #check if these two operators are equal\n",
    "\n"
   ]
  },
  {
   "cell_type": "markdown",
   "id": "422986fb-450e-402f-8cda-4dc0de9cb6a3",
   "metadata": {},
   "source": [
    "### StepC: Run the cells below to see the reduced circuit, shor_QPE, and execute it on the qasm_simulator to check if it reproduce the estimated phases in the Qiskit textbook https://github.com/Qiskit/textbook/blob/main/notebooks/ch-algorithms/quantum-phase-estimation.ipynb"
   ]
  },
  {
   "cell_type": "code",
   "execution_count": 95,
   "id": "9cff5ecc-9c60-4875-a503-795cafa36e58",
   "metadata": {},
   "outputs": [],
   "source": [
    "def cU_multi(k):\n",
    "    circ = QuantumCircuit(m)\n",
    "    for _ in range(2**k):\n",
    "        circ.append(U, range(m))\n",
    "    \n",
    "    U_multi = circ.to_gate()\n",
    "    U_multi.name = '7Mod15_[2^{}]'.format(k)\n",
    "    \n",
    "    cU_multi = U_multi.control()\n",
    "    return cU_multi"
   ]
  },
  {
   "cell_type": "code",
   "execution_count": 96,
   "id": "33e62f96-2634-447f-9546-30b7b295b84c",
   "metadata": {},
   "outputs": [],
   "source": [
    "def qft(n):\n",
    "    \"\"\"Creates an n-qubit QFT circuit\"\"\"\n",
    "    circuit = QuantumCircuit(n)\n",
    "    def swap_registers(circuit, n):\n",
    "        for qubit in range(n//2):\n",
    "            circuit.swap(qubit, n-qubit-1)\n",
    "        return circuit\n",
    "    def qft_rotations(circuit, n):\n",
    "        \"\"\"Performs qft on the first n qubits in circuit (without swaps)\"\"\"\n",
    "        if n == 0:\n",
    "            return circuit\n",
    "        n -= 1\n",
    "        circuit.h(n)\n",
    "        for qubit in range(n):\n",
    "            circuit.cp(np.pi/2**(n-qubit), qubit, n)\n",
    "        qft_rotations(circuit, n)\n",
    "    \n",
    "    qft_rotations(circuit, n)\n",
    "    swap_registers(circuit, n)\n",
    "    return circuit"
   ]
  },
  {
   "cell_type": "code",
   "execution_count": 97,
   "id": "183a6411-edd3-4044-a941-92e76d3385d7",
   "metadata": {},
   "outputs": [
    {
     "data": {
      "text/html": [
       "<pre style=\"word-wrap: normal;white-space: pre;background: #fff0;line-height: 1.1;font-family: &quot;Courier New&quot;,Courier,monospace\">     ┌───┐                                  ┌───────┐┌─┐      \n",
       "q_0: ┤ H ├────────■─────────────────────────┤0      ├┤M├──────\n",
       "     ├───┤        │                         │       │└╥┘┌─┐   \n",
       "q_1: ┤ H ├────────┼────────────────■────────┤1 QFT+ ├─╫─┤M├───\n",
       "     ├───┤        │                │        │       │ ║ └╥┘┌─┐\n",
       "q_2: ┤ H ├────────┼────────────────┼────────┤2      ├─╫──╫─┤M├\n",
       "     ├───┤┌───────┴───────┐┌───────┴───────┐└───────┘ ║  ║ └╥┘\n",
       "q_3: ┤ X ├┤0              ├┤0              ├──────────╫──╫──╫─\n",
       "     └───┘│               ││               │          ║  ║  ║ \n",
       "q_4: ─────┤1              ├┤1              ├──────────╫──╫──╫─\n",
       "          │  7Mod15_[2^0] ││  7Mod15_[2^1] │          ║  ║  ║ \n",
       "q_5: ─────┤2              ├┤2              ├──────────╫──╫──╫─\n",
       "          │               ││               │          ║  ║  ║ \n",
       "q_6: ─────┤3              ├┤3              ├──────────╫──╫──╫─\n",
       "          └───────────────┘└───────────────┘          ║  ║  ║ \n",
       "c: 3/═════════════════════════════════════════════════╩══╩══╩═\n",
       "                                                      0  1  2 </pre>"
      ],
      "text/plain": [
       "     ┌───┐                                  ┌───────┐┌─┐      \n",
       "q_0: ┤ H ├────────■─────────────────────────┤0      ├┤M├──────\n",
       "     ├───┤        │                         │       │└╥┘┌─┐   \n",
       "q_1: ┤ H ├────────┼────────────────■────────┤1 QFT+ ├─╫─┤M├───\n",
       "     ├───┤        │                │        │       │ ║ └╥┘┌─┐\n",
       "q_2: ┤ H ├────────┼────────────────┼────────┤2      ├─╫──╫─┤M├\n",
       "     ├───┤┌───────┴───────┐┌───────┴───────┐└───────┘ ║  ║ └╥┘\n",
       "q_3: ┤ X ├┤0              ├┤0              ├──────────╫──╫──╫─\n",
       "     └───┘│               ││               │          ║  ║  ║ \n",
       "q_4: ─────┤1              ├┤1              ├──────────╫──╫──╫─\n",
       "          │  7Mod15_[2^0] ││  7Mod15_[2^1] │          ║  ║  ║ \n",
       "q_5: ─────┤2              ├┤2              ├──────────╫──╫──╫─\n",
       "          │               ││               │          ║  ║  ║ \n",
       "q_6: ─────┤3              ├┤3              ├──────────╫──╫──╫─\n",
       "          └───────────────┘└───────────────┘          ║  ║  ║ \n",
       "c: 3/═════════════════════════════════════════════════╩══╩══╩═\n",
       "                                                      0  1  2 "
      ]
     },
     "execution_count": 97,
     "metadata": {},
     "output_type": "execute_result"
    }
   ],
   "source": [
    "# QPE circuit for Shor\n",
    "t = 3 \n",
    "shor_QPE = QuantumCircuit(t+m, t)\n",
    "shor_QPE.h(range(t))\n",
    "\n",
    "shor_QPE.x(t)\n",
    "for idx in range(t-1):\n",
    "    shor_QPE.append(cU_multi(idx), [idx]+ list(range(t,t+m)))\n",
    "\n",
    "qft_dag = qft(t).inverse()\n",
    "qft_dag.name = 'QFT+'\n",
    "\n",
    "shor_QPE.append(qft_dag, range(t))\n",
    "shor_QPE.measure(range(t), range(t))\n",
    "\n",
    "shor_QPE.draw()"
   ]
  },
  {
   "cell_type": "code",
   "execution_count": 98,
   "id": "7f440fcc-21e9-41fb-8358-2b4537d0414a",
   "metadata": {},
   "outputs": [
    {
     "data": {
      "image/png": "[encoded data removed]",
      "text/plain": [
       "<Figure size 640x480 with 1 Axes>"
      ]
     },
     "execution_count": 98,
     "metadata": {},
     "output_type": "execute_result"
    }
   ],
   "source": [
    "backend = AerSimulator()\n",
    "\n",
    "transpiled_circuit = transpile(shor_QPE, backend)\n",
    "job = backend.run(transpiled_circuit, shots=1000, memory=True)\n",
    "count_QPE= job.result().get_counts()\n",
    "\n",
    "key_new = [str(int(key,2)/2**3) for key in count_QPE.keys()]\n",
    "count_new_QPE = dict(zip(key_new, count_QPE.values()))\n",
    "plot_histogram(count_new_QPE)"
   ]
  },
  {
   "cell_type": "markdown",
   "id": "7435713f-636f-46af-864c-25022e78c97d",
   "metadata": {},
   "source": [
    "## Part 2: Noisy simulation of the quantum order-finding circuits."
   ]
  },
  {
   "cell_type": "markdown",
   "id": "9b783d04-bfae-415a-84f5-1676eae993d8",
   "metadata": {},
   "source": [
    "Goal\n",
    "\n",
    "Perform the noise simulaton of all two quantum order-finding circuits: shor_Orig, shor_QPE. \n",
    "Compare their results.\n",
    "After this experiment, hopefully you will get better understand why we still need quantum error correction to factor large integer.\n",
    "A famous paper that I recommend you to read:\n",
    "https://arxiv.org/abs/1905.09749"
   ]
  },
  {
   "cell_type": "code",
   "execution_count": 99,
   "id": "01142a1a-1171-4bda-a494-05b461a69e71",
   "metadata": {},
   "outputs": [
    {
     "data": {
      "text/html": [
       "<pre style=\"word-wrap: normal;white-space: pre;background: #fff0;line-height: 1.1;font-family: &quot;Courier New&quot;,Courier,monospace\">      ┌───┐                                                                    »\n",
       " q_0: ┤ H ├────────■───────────────────────────────────────────────────────────»\n",
       "      ├───┤        │                                                           »\n",
       " q_1: ┤ H ├────────┼────────────────■──────────────────────────────────────────»\n",
       "      ├───┤        │                │                                          »\n",
       " q_2: ┤ H ├────────┼────────────────┼────────────────■─────────────────────────»\n",
       "      ├───┤        │                │                │                         »\n",
       " q_3: ┤ H ├────────┼────────────────┼────────────────┼────────────────■────────»\n",
       "      ├───┤        │                │                │                │        »\n",
       " q_4: ┤ H ├────────┼────────────────┼────────────────┼────────────────┼────────»\n",
       "      ├───┤        │                │                │                │        »\n",
       " q_5: ┤ H ├────────┼────────────────┼────────────────┼────────────────┼────────»\n",
       "      ├───┤        │                │                │                │        »\n",
       " q_6: ┤ H ├────────┼────────────────┼────────────────┼────────────────┼────────»\n",
       "      ├───┤        │                │                │                │        »\n",
       " q_7: ┤ H ├────────┼────────────────┼────────────────┼────────────────┼────────»\n",
       "      ├───┤┌───────┴───────┐┌───────┴───────┐┌───────┴───────┐┌───────┴───────┐»\n",
       " q_8: ┤ X ├┤0              ├┤0              ├┤0              ├┤0              ├»\n",
       "      └───┘│               ││               ││               ││               │»\n",
       " q_9: ─────┤1              ├┤1              ├┤1              ├┤1              ├»\n",
       "           │  7Mod15_[2^0] ││  7Mod15_[2^1] ││  7Mod15_[2^2] ││  7Mod15_[2^3] │»\n",
       "q_10: ─────┤2              ├┤2              ├┤2              ├┤2              ├»\n",
       "           │               ││               ││               ││               │»\n",
       "q_11: ─────┤3              ├┤3              ├┤3              ├┤3              ├»\n",
       "           └───────────────┘└───────────────┘└───────────────┘└───────────────┘»\n",
       " c: 8/═════════════════════════════════════════════════════════════════════════»\n",
       "                                                                               »\n",
       "«                                                                          »\n",
       "« q_0: ────────────────────────────────────────────────────────────────────»\n",
       "«                                                                          »\n",
       "« q_1: ────────────────────────────────────────────────────────────────────»\n",
       "«                                                                          »\n",
       "« q_2: ────────────────────────────────────────────────────────────────────»\n",
       "«                                                                          »\n",
       "« q_3: ────────────────────────────────────────────────────────────────────»\n",
       "«                                                                          »\n",
       "« q_4: ────────■───────────────────────────────────────────────────────────»\n",
       "«              │                                                           »\n",
       "« q_5: ────────┼────────────────■──────────────────────────────────────────»\n",
       "«              │                │                                          »\n",
       "« q_6: ────────┼────────────────┼────────────────■─────────────────────────»\n",
       "«              │                │                │                         »\n",
       "« q_7: ────────┼────────────────┼────────────────┼────────────────■────────»\n",
       "«      ┌───────┴───────┐┌───────┴───────┐┌───────┴───────┐┌───────┴───────┐»\n",
       "« q_8: ┤0              ├┤0              ├┤0              ├┤0              ├»\n",
       "«      │               ││               ││               ││               │»\n",
       "« q_9: ┤1              ├┤1              ├┤1              ├┤1              ├»\n",
       "«      │  7Mod15_[2^4] ││  7Mod15_[2^5] ││  7Mod15_[2^6] ││  7Mod15_[2^7] │»\n",
       "«q_10: ┤2              ├┤2              ├┤2              ├┤2              ├»\n",
       "«      │               ││               ││               ││               │»\n",
       "«q_11: ┤3              ├┤3              ├┤3              ├┤3              ├»\n",
       "«      └───────────────┘└───────────────┘└───────────────┘└───────────────┘»\n",
       "« c: 8/════════════════════════════════════════════════════════════════════»\n",
       "«                                                                          »\n",
       "«      ┌───────┐┌─┐                     \n",
       "« q_0: ┤0      ├┤M├─────────────────────\n",
       "«      │       │└╥┘┌─┐                  \n",
       "« q_1: ┤1      ├─╫─┤M├──────────────────\n",
       "«      │       │ ║ └╥┘┌─┐               \n",
       "« q_2: ┤2      ├─╫──╫─┤M├───────────────\n",
       "«      │       │ ║  ║ └╥┘┌─┐            \n",
       "« q_3: ┤3      ├─╫──╫──╫─┤M├────────────\n",
       "«      │  QFT+ │ ║  ║  ║ └╥┘┌─┐         \n",
       "« q_4: ┤4      ├─╫──╫──╫──╫─┤M├─────────\n",
       "«      │       │ ║  ║  ║  ║ └╥┘┌─┐      \n",
       "« q_5: ┤5      ├─╫──╫──╫──╫──╫─┤M├──────\n",
       "«      │       │ ║  ║  ║  ║  ║ └╥┘┌─┐   \n",
       "« q_6: ┤6      ├─╫──╫──╫──╫──╫──╫─┤M├───\n",
       "«      │       │ ║  ║  ║  ║  ║  ║ └╥┘┌─┐\n",
       "« q_7: ┤7      ├─╫──╫──╫──╫──╫──╫──╫─┤M├\n",
       "«      └───────┘ ║  ║  ║  ║  ║  ║  ║ └╥┘\n",
       "« q_8: ──────────╫──╫──╫──╫──╫──╫──╫──╫─\n",
       "«                ║  ║  ║  ║  ║  ║  ║  ║ \n",
       "« q_9: ──────────╫──╫──╫──╫──╫──╫──╫──╫─\n",
       "«                ║  ║  ║  ║  ║  ║  ║  ║ \n",
       "«q_10: ──────────╫──╫──╫──╫──╫──╫──╫──╫─\n",
       "«                ║  ║  ║  ║  ║  ║  ║  ║ \n",
       "«q_11: ──────────╫──╫──╫──╫──╫──╫──╫──╫─\n",
       "«                ║  ║  ║  ║  ║  ║  ║  ║ \n",
       "« c: 8/══════════╩══╩══╩══╩══╩══╩══╩══╩═\n",
       "«                0  1  2  3  4  5  6  7 </pre>"
      ],
      "text/plain": [
       "      ┌───┐                                                                    »\n",
       " q_0: ┤ H ├────────■───────────────────────────────────────────────────────────»\n",
       "      ├───┤        │                                                           »\n",
       " q_1: ┤ H ├────────┼────────────────■──────────────────────────────────────────»\n",
       "      ├───┤        │                │                                          »\n",
       " q_2: ┤ H ├────────┼────────────────┼────────────────■─────────────────────────»\n",
       "      ├───┤        │                │                │                         »\n",
       " q_3: ┤ H ├────────┼────────────────┼────────────────┼────────────────■────────»\n",
       "      ├───┤        │                │                │                │        »\n",
       " q_4: ┤ H ├────────┼────────────────┼────────────────┼────────────────┼────────»\n",
       "      ├───┤        │                │                │                │        »\n",
       " q_5: ┤ H ├────────┼────────────────┼────────────────┼────────────────┼────────»\n",
       "      ├───┤        │                │                │                │        »\n",
       " q_6: ┤ H ├────────┼────────────────┼────────────────┼────────────────┼────────»\n",
       "      ├───┤        │                │                │                │        »\n",
       " q_7: ┤ H ├────────┼────────────────┼────────────────┼────────────────┼────────»\n",
       "      ├───┤┌───────┴───────┐┌───────┴───────┐┌───────┴───────┐┌───────┴───────┐»\n",
       " q_8: ┤ X ├┤0              ├┤0              ├┤0              ├┤0              ├»\n",
       "      └───┘│               ││               ││               ││               │»\n",
       " q_9: ─────┤1              ├┤1              ├┤1              ├┤1              ├»\n",
       "           │  7Mod15_[2^0] ││  7Mod15_[2^1] ││  7Mod15_[2^2] ││  7Mod15_[2^3] │»\n",
       "q_10: ─────┤2              ├┤2              ├┤2              ├┤2              ├»\n",
       "           │               ││               ││               ││               │»\n",
       "q_11: ─────┤3              ├┤3              ├┤3              ├┤3              ├»\n",
       "           └───────────────┘└───────────────┘└───────────────┘└───────────────┘»\n",
       " c: 8/═════════════════════════════════════════════════════════════════════════»\n",
       "                                                                               »\n",
       "«                                                                          »\n",
       "« q_0: ────────────────────────────────────────────────────────────────────»\n",
       "«                                                                          »\n",
       "« q_1: ────────────────────────────────────────────────────────────────────»\n",
       "«                                                                          »\n",
       "« q_2: ────────────────────────────────────────────────────────────────────»\n",
       "«                                                                          »\n",
       "« q_3: ────────────────────────────────────────────────────────────────────»\n",
       "«                                                                          »\n",
       "« q_4: ────────■───────────────────────────────────────────────────────────»\n",
       "«              │                                                           »\n",
       "« q_5: ────────┼────────────────■──────────────────────────────────────────»\n",
       "«              │                │                                          »\n",
       "« q_6: ────────┼────────────────┼────────────────■─────────────────────────»\n",
       "«              │                │                │                         »\n",
       "« q_7: ────────┼────────────────┼────────────────┼────────────────■────────»\n",
       "«      ┌───────┴───────┐┌───────┴───────┐┌───────┴───────┐┌───────┴───────┐»\n",
       "« q_8: ┤0              ├┤0              ├┤0              ├┤0              ├»\n",
       "«      │               ││               ││               ││               │»\n",
       "« q_9: ┤1              ├┤1              ├┤1              ├┤1              ├»\n",
       "«      │  7Mod15_[2^4] ││  7Mod15_[2^5] ││  7Mod15_[2^6] ││  7Mod15_[2^7] │»\n",
       "«q_10: ┤2              ├┤2              ├┤2              ├┤2              ├»\n",
       "«      │               ││               ││               ││               │»\n",
       "«q_11: ┤3              ├┤3              ├┤3              ├┤3              ├»\n",
       "«      └───────────────┘└───────────────┘└───────────────┘└───────────────┘»\n",
       "« c: 8/════════════════════════════════════════════════════════════════════»\n",
       "«                                                                          »\n",
       "«      ┌───────┐┌─┐                     \n",
       "« q_0: ┤0      ├┤M├─────────────────────\n",
       "«      │       │└╥┘┌─┐                  \n",
       "« q_1: ┤1      ├─╫─┤M├──────────────────\n",
       "«      │       │ ║ └╥┘┌─┐               \n",
       "« q_2: ┤2      ├─╫──╫─┤M├───────────────\n",
       "«      │       │ ║  ║ └╥┘┌─┐            \n",
       "« q_3: ┤3      ├─╫──╫──╫─┤M├────────────\n",
       "«      │  QFT+ │ ║  ║  ║ └╥┘┌─┐         \n",
       "« q_4: ┤4      ├─╫──╫──╫──╫─┤M├─────────\n",
       "«      │       │ ║  ║  ║  ║ └╥┘┌─┐      \n",
       "« q_5: ┤5      ├─╫──╫──╫──╫──╫─┤M├──────\n",
       "«      │       │ ║  ║  ║  ║  ║ └╥┘┌─┐   \n",
       "« q_6: ┤6      ├─╫──╫──╫──╫──╫──╫─┤M├───\n",
       "«      │       │ ║  ║  ║  ║  ║  ║ └╥┘┌─┐\n",
       "« q_7: ┤7      ├─╫──╫──╫──╫──╫──╫──╫─┤M├\n",
       "«      └───────┘ ║  ║  ║  ║  ║  ║  ║ └╥┘\n",
       "« q_8: ──────────╫──╫──╫──╫──╫──╫──╫──╫─\n",
       "«                ║  ║  ║  ║  ║  ║  ║  ║ \n",
       "« q_9: ──────────╫──╫──╫──╫──╫──╫──╫──╫─\n",
       "«                ║  ║  ║  ║  ║  ║  ║  ║ \n",
       "«q_10: ──────────╫──╫──╫──╫──╫──╫──╫──╫─\n",
       "«                ║  ║  ║  ║  ║  ║  ║  ║ \n",
       "«q_11: ──────────╫──╫──╫──╫──╫──╫──╫──╫─\n",
       "«                ║  ║  ║  ║  ║  ║  ║  ║ \n",
       "« c: 8/══════════╩══╩══╩══╩══╩══╩══╩══╩═\n",
       "«                0  1  2  3  4  5  6  7 "
      ]
     },
     "execution_count": 99,
     "metadata": {},
     "output_type": "execute_result"
    }
   ],
   "source": [
    "t = 2*m\n",
    "\n",
    "shor_Orig = QuantumCircuit(t+m, t)\n",
    "shor_Orig.h(range(t))\n",
    "\n",
    "shor_Orig.x(t)\n",
    "for idx in range(t):\n",
    "    shor_Orig.append(cU_multi(idx), [idx]+ list(range(t,t+m)))\n",
    "\n",
    "qft_dag = qft(t).inverse()\n",
    "qft_dag.name = 'QFT+'\n",
    "\n",
    "shor_Orig.append(qft_dag, range(t))\n",
    "shor_Orig.measure(range(t), range(t))\n",
    "    \n",
    "shor_Orig.draw()"
   ]
  },
  {
   "cell_type": "code",
   "execution_count": 100,
   "id": "19909a01-bb02-49c9-b89a-c9dfe7cd43c8",
   "metadata": {},
   "outputs": [
    {
     "data": {
      "image/png": "[encoded data removed]",
      "text/plain": [
       "<Figure size 640x480 with 1 Axes>"
      ]
     },
     "execution_count": 100,
     "metadata": {},
     "output_type": "execute_result"
    }
   ],
   "source": [
    "backend = AerSimulator()\n",
    "\n",
    "transpiled_circuit = transpile(shor_Orig, backend)\n",
    "job = backend.run(transpiled_circuit, shots=1000, memory=True)\n",
    "count_Orig= job.result().get_counts()\n",
    "\n",
    "key_new = [str(int(key,2)/2**t) for key in count_Orig.keys()]\n",
    "count_Orig = dict(zip(key_new, count_Orig.values()))\n",
    "plot_histogram(count_Orig, title='textbook circuit simulation result No noise')"
   ]
  },
  {
   "cell_type": "markdown",
   "id": "7d84ca8a-ab7d-4cde-b193-0dbb70f14faa",
   "metadata": {},
   "source": [
    "#### Your task: Perform the noise simulations of all two circuits, shor_Orig, shor_QPE, with the noise model that we provide you here and run your simulation for different noise parameters p =[0.1,0.2,0.3,0.4,0.5] plot their noise simulation results together with ones without noise for comparison."
   ]
  },
  {
   "cell_type": "code",
   "execution_count": 101,
   "id": "e7d5121e-8461-465c-80f1-7cd7af5f7e03",
   "metadata": {},
   "outputs": [],
   "source": [
    "# Import from Qiskit Aer noise module\n",
    "from qiskit_aer.noise import (NoiseModel, QuantumError, ReadoutError,\n",
    "    pauli_error, depolarizing_error, thermal_relaxation_error)\n",
    "\n",
    "\n",
    "def construct_bitphaseflip_noise_model(p):\n",
    "    # We set three different noise parameter the same as p\n",
    "    p_reset = p\n",
    "    p_meas = p\n",
    "    p_gate1 = p\n",
    "\n",
    "    #Phase flip noise when there is gate of measurement\n",
    "    error_reset = pauli_error([('Z', p_reset), ('I', 1 - p_reset)])\n",
    "    error_meas = pauli_error([('Z',p_meas), ('I', 1 - p_meas)])\n",
    "    error_gate1 = pauli_error([('Z',p_gate1), ('I', 1 - p_gate1)])\n",
    "    error_gate2 = error_gate1.tensor(error_gate1)\n",
    "\n",
    "    #Bitflip noise when there is gate of measurement\n",
    "    error_reset_bit = pauli_error([('X', p_reset), ('I', 1 - p_reset)])\n",
    "    error_meas_bit = pauli_error([('X',p_meas), ('I', 1 - p_meas)])\n",
    "    error_gate1_bit = pauli_error([('X',p_gate1), ('I', 1 - p_gate1)])\n",
    "    error_gate2_bit = error_gate1_bit.tensor(error_gate1)\n",
    "\n",
    "    # Add above errors to the same noise model object\n",
    "    noise_bitphase_flip = NoiseModel()\n",
    "    noise_bitphase_flip.add_all_qubit_quantum_error(error_reset_bit, \"reset\")\n",
    "    noise_bitphase_flip.add_all_qubit_quantum_error(error_meas_bit, \"measure\")\n",
    "    noise_bitphase_flip.add_all_qubit_quantum_error(error_gate1_bit, [\"x\",\"h\",\"t\",\"tdg\"])\n",
    "    noise_bitphase_flip.add_all_qubit_quantum_error(error_gate2_bit, [\"cx,ccx\"])\n",
    "    \n",
    "\n",
    "    return noise_bitphase_flip"
   ]
  },
  {
   "cell_type": "markdown",
   "id": "c175cc3c-f992-4453-9f5e-b8ce575d645d",
   "metadata": {},
   "source": [
    "Setup your noisemodel with noise parameter"
   ]
  },
  {
   "cell_type": "code",
   "execution_count": 102,
   "id": "26dc152f-c162-4bf4-824b-f60b03ad0f0f",
   "metadata": {},
   "outputs": [],
   "source": [
    "p=0\n",
    "noisemodel=construct_bitphaseflip_noise_model(p)"
   ]
  },
  {
   "cell_type": "markdown",
   "id": "268c30a2",
   "metadata": {},
   "source": [
    "ShorOrigin figure creation. If they are not loading, the figures get progressivley super noisy with it becoming pretty indistinguishable around p=.3"
   ]
  },
  {
   "cell_type": "code",
   "execution_count": 124,
   "id": "65bc622b-1875-4360-8b37-7d9335280ccf",
   "metadata": {},
   "outputs": [],
   "source": [
    "backend = AerSimulator()\n",
    "transpiled_circuit = transpile(shor_Orig, backend)\n",
    "\n",
    "p_arr = [0,.1,.2,.3,.4,.5]\n",
    "for p in p_arr:\n",
    "    noisemodel = construct_bitphaseflip_noise_model(p)\n",
    "    job = backend.run(transpiled_circuit,noise_model=noisemodel, shots=1000, memory=True)\n",
    "    count_Orig= job.result().get_counts()\n",
    "    key_new = [str(int(key,2)/2**8) for key in count_Orig.keys()]\n",
    "    count_Orig = dict(zip(key_new, count_Orig.values()))\n",
    "    if p>0:\n",
    "        plot_title = \"textbook circuit simulation with noise p=\" + str(p)\n",
    "    else:\n",
    "        plot_title = \"textbook circuit simulation with no noise\"\n",
    "    temp = plot_histogram(count_Orig, title=plot_title)\n",
    "    fig_title = \"Figures/ShorOrig_\" + str(p) + \"_.png\"\n",
    "    temp.savefig(fig_title)"
   ]
  },
  {
   "cell_type": "markdown",
   "id": "d370f659",
   "metadata": {},
   "source": [
    "![title](Figures/ShorOrig_0_.png)\n",
    "![title](Figures/ShorOrig_0.1_.png)\n",
    "![title](Figures/ShorOrig_0.2_.png)\n",
    "![title](Figures/ShorOrig_0.3_.png)\n",
    "![title](Figures/ShorOrig_0.4_.png)\n",
    "![title](Figures/ShorOrig_0.5_.png)"
   ]
  },
  {
   "cell_type": "markdown",
   "id": "02918004",
   "metadata": {},
   "source": [
    "The textbook circuit simulation is particularly noisy, especially with values > .02 for p. It is very hard to tell what phase values should be expected when the noise is past this threshold"
   ]
  },
  {
   "cell_type": "markdown",
   "id": "1dda365c",
   "metadata": {},
   "source": [
    "ShorQPE figure creation. If they are not loading, the figures are much better than ShorOrigin in terms of noise on extraneous results although at p=.4 the noisy results become indistinguishable from the expected results in terms of amplitude"
   ]
  },
  {
   "cell_type": "code",
   "execution_count": 104,
   "id": "eed88e5a",
   "metadata": {},
   "outputs": [],
   "source": [
    "backend = AerSimulator()\n",
    "transpiled_circuit = transpile(shor_QPE, backend)\n",
    "\n",
    "p_arr = [0,.1,.2,.3,.4,.5]\n",
    "for p in p_arr:\n",
    "    noisemodel = construct_bitphaseflip_noise_model(p)\n",
    "    job = backend.run(transpiled_circuit,noise_model=noisemodel, shots=1000, memory=True)\n",
    "    count_Orig= job.result().get_counts()\n",
    "    key_new = [str(int(key,2)/2**8) for key in count_Orig.keys()]\n",
    "    count_Orig = dict(zip(key_new, count_Orig.values()))\n",
    "    plot_title = \"QPE circuit simulation with noise p=\" + str(p)\n",
    "    temp = plot_histogram(count_Orig, title=plot_title)\n",
    "    fig_title = \"ShorQPE_\" + str(p) + \"_.png\"\n",
    "    temp.savefig(fig_title)"
   ]
  },
  {
   "cell_type": "markdown",
   "id": "a171448e",
   "metadata": {},
   "source": [
    "![title](Figures/ShorQPE_0_.png)\n",
    "![title](Figures/ShorQPE_0.1_.png)\n",
    "![title](Figures/ShorQPE_0.2_.png)\n",
    "![title](Figures/ShorQPE_0.3_.png)\n",
    "![title](Figures/ShorQPE_0.4_.png)\n",
    "![title](Figures/ShorQPE_0.5_.png)"
   ]
  },
  {
   "cell_type": "markdown",
   "id": "8e6ea19e",
   "metadata": {},
   "source": [
    "### The QPE simulation is better than the textbook mainly due to the fact that the noise is less distributed. The expected phase values still have clearly higher counts until p>=.4"
   ]
  },
  {
   "cell_type": "markdown",
   "id": "2e9e7160-1ccc-477f-875e-7d1f2b617855",
   "metadata": {},
   "source": [
    "## Additional task: Do the lab two more times, but these times for N=21 and N=63. Describe any major differences in behavior between these cases."
   ]
  },
  {
   "cell_type": "markdown",
   "id": "2b473515-ee91-4ec1-885d-ac3f7ac9c3df",
   "metadata": {},
   "source": [
    "First, we add a modification of function cU_multi to _cU_multi, by setting both U and m as parameters:"
   ]
  },
  {
   "cell_type": "code",
   "execution_count": 105,
   "id": "ea845c6a-16c8-48c4-aa3c-621d72f1c943",
   "metadata": {},
   "outputs": [],
   "source": [
    "def _cU_multi(U,m,k):\n",
    "    circ = QuantumCircuit(m)\n",
    "    for _ in range(2**k):\n",
    "        circ.append(U, range(m))\n",
    "    \n",
    "    U_multi = circ.to_gate()\n",
    "    U_multi.name = '7Mod15_[2^{}]'.format(k)\n",
    "    \n",
    "    cU_multi = U_multi.control()\n",
    "    return cU_multi"
   ]
  },
  {
   "cell_type": "markdown",
   "id": "7888d0ed-69e6-4ef9-a094-37a1efc6b709",
   "metadata": {},
   "source": [
    "Here I give you an example of the Shor15 function. This is the exact format we expect you to implement for N=21 and N=63.\n",
    "You might use any base $a$ as you like for modular exponential. "
   ]
  },
  {
   "cell_type": "code",
   "execution_count": 111,
   "id": "02f74cb6-bc37-43ce-8191-4e0b2abd2c5b",
   "metadata": {},
   "outputs": [
    {
     "data": {
      "text/plain": [
       "(7,\n",
       " <qiskit.circuit.quantumcircuit.QuantumCircuit at 0x1238fb850>,\n",
       " {'100': 269, '000': 247, '010': 243, '110': 241})"
      ]
     },
     "execution_count": 111,
     "metadata": {},
     "output_type": "execute_result"
    }
   ],
   "source": [
    "def Shor15():\n",
    "    ## Code for constructing shor_QPE for factoring 15 starts here\n",
    "    a = 7\n",
    "    N = 15\n",
    "    m = int(np.ceil(np.log2(N)))\n",
    "    \n",
    "    U_qc = QuantumCircuit(m)\n",
    "    U_qc.x(range(m))\n",
    "    U_qc.swap(1, 2)\n",
    "    U_qc.swap(2, 3)\n",
    "    U_qc.swap(0, 3)\n",
    "    \n",
    "    U = U_qc.to_gate()\n",
    "    U.name ='{}Mod{}'.format(7, N)\n",
    "\n",
    "    # QPE circuit for Shor15\n",
    "    t = 3 \n",
    "    shor_QPE = QuantumCircuit(t+m, t)\n",
    "    shor_QPE.h(range(t))\n",
    "    \n",
    "    shor_QPE.x(t)\n",
    "    for idx in range(t-1):\n",
    "        shor_QPE.append(_cU_multi(U,m,idx), [idx]+ list(range(t,t+m)))\n",
    "    \n",
    "    qft_dag = qft(t).inverse()\n",
    "    qft_dag.name = 'QFT+'\n",
    "    \n",
    "    shor_QPE.append(qft_dag, range(t))\n",
    "    shor_QPE.measure(range(t), range(t))\n",
    "    ## Code for constructing shor_QPE for factoring 15 ends here    \n",
    "    \n",
    "    backend = AerSimulator()\n",
    "    transpiled_circuit = transpile(shor_QPE, backend)\n",
    "    job = backend.run(transpiled_circuit, shots=1000, memory=True)\n",
    "    count_QPE= job.result().get_counts()\n",
    "    return a, shor_QPE, count_QPE\n",
    "\n",
    "\n",
    "Shor15()\n",
    "#a,circ,counts = Shor15()\n",
    "#circ.draw(output = 'mpl')"
   ]
  },
  {
   "cell_type": "markdown",
   "id": "5c487dd9-dd6b-46df-b209-09fdb9946795",
   "metadata": {},
   "source": [
    "Please implement the following function of factoring 21. \n",
    "You should submit this function in .py file."
   ]
  },
  {
   "cell_type": "code",
   "execution_count": null,
   "id": "9257e6b5-9b85-4dcf-a310-74ae200d3b56",
   "metadata": {},
   "outputs": [
    {
     "data": {
      "text/html": [
       "<pre style=\"word-wrap: normal;white-space: pre;background: #fff0;line-height: 1.1;font-family: &quot;Courier New&quot;,Courier,monospace\">     ┌───┐                                                   ┌───────┐┌─┐      »\n",
       "q_0: ┤ H ├────────■──────────────────────────────────────────┤0      ├┤M├──────»\n",
       "     ├───┤        │                                          │       │└╥┘┌─┐   »\n",
       "q_1: ┤ H ├────────┼────────────────■─────────────────────────┤1      ├─╫─┤M├───»\n",
       "     ├───┤        │                │                         │  QFT+ │ ║ └╥┘┌─┐»\n",
       "q_2: ┤ H ├────────┼────────────────┼────────────────■────────┤2      ├─╫──╫─┤M├»\n",
       "     ├───┤        │                │                │        │       │ ║  ║ └╥┘»\n",
       "q_3: ┤ H ├────────┼────────────────┼────────────────┼────────┤3      ├─╫──╫──╫─»\n",
       "     ├───┤┌───────┴───────┐┌───────┴───────┐┌───────┴───────┐└───────┘ ║  ║  ║ »\n",
       "q_4: ┤ X ├┤0              ├┤0              ├┤0              ├──────────╫──╫──╫─»\n",
       "     └───┘│               ││               ││               │          ║  ║  ║ »\n",
       "q_5: ─────┤1              ├┤1              ├┤1              ├──────────╫──╫──╫─»\n",
       "          │               ││               ││               │          ║  ║  ║ »\n",
       "q_6: ─────┤2 7Mod15_[2^0] ├┤2 7Mod15_[2^1] ├┤2 7Mod15_[2^2] ├──────────╫──╫──╫─»\n",
       "          │               ││               ││               │          ║  ║  ║ »\n",
       "q_7: ─────┤3              ├┤3              ├┤3              ├──────────╫──╫──╫─»\n",
       "          │               ││               ││               │          ║  ║  ║ »\n",
       "q_8: ─────┤4              ├┤4              ├┤4              ├──────────╫──╫──╫─»\n",
       "          └───────────────┘└───────────────┘└───────────────┘          ║  ║  ║ »\n",
       "c: 4/══════════════════════════════════════════════════════════════════╩══╩══╩═»\n",
       "                                                                       0  1  2 »\n",
       "«        \n",
       "«q_0: ───\n",
       "«        \n",
       "«q_1: ───\n",
       "«        \n",
       "«q_2: ───\n",
       "«     ┌─┐\n",
       "«q_3: ┤M├\n",
       "«     └╥┘\n",
       "«q_4: ─╫─\n",
       "«      ║ \n",
       "«q_5: ─╫─\n",
       "«      ║ \n",
       "«q_6: ─╫─\n",
       "«      ║ \n",
       "«q_7: ─╫─\n",
       "«      ║ \n",
       "«q_8: ─╫─\n",
       "«      ║ \n",
       "«c: 4/═╩═\n",
       "«      3 </pre>"
      ],
      "text/plain": [
       "     ┌───┐                                                   ┌───────┐┌─┐      »\n",
       "q_0: ┤ H ├────────■──────────────────────────────────────────┤0      ├┤M├──────»\n",
       "     ├───┤        │                                          │       │└╥┘┌─┐   »\n",
       "q_1: ┤ H ├────────┼────────────────■─────────────────────────┤1      ├─╫─┤M├───»\n",
       "     ├───┤        │                │                         │  QFT+ │ ║ └╥┘┌─┐»\n",
       "q_2: ┤ H ├────────┼────────────────┼────────────────■────────┤2      ├─╫──╫─┤M├»\n",
       "     ├───┤        │                │                │        │       │ ║  ║ └╥┘»\n",
       "q_3: ┤ H ├────────┼────────────────┼────────────────┼────────┤3      ├─╫──╫──╫─»\n",
       "     ├───┤┌───────┴───────┐┌───────┴───────┐┌───────┴───────┐└───────┘ ║  ║  ║ »\n",
       "q_4: ┤ X ├┤0              ├┤0              ├┤0              ├──────────╫──╫──╫─»\n",
       "     └───┘│               ││               ││               │          ║  ║  ║ »\n",
       "q_5: ─────┤1              ├┤1              ├┤1              ├──────────╫──╫──╫─»\n",
       "          │               ││               ││               │          ║  ║  ║ »\n",
       "q_6: ─────┤2 7Mod15_[2^0] ├┤2 7Mod15_[2^1] ├┤2 7Mod15_[2^2] ├──────────╫──╫──╫─»\n",
       "          │               ││               ││               │          ║  ║  ║ »\n",
       "q_7: ─────┤3              ├┤3              ├┤3              ├──────────╫──╫──╫─»\n",
       "          │               ││               ││               │          ║  ║  ║ »\n",
       "q_8: ─────┤4              ├┤4              ├┤4              ├──────────╫──╫──╫─»\n",
       "          └───────────────┘└───────────────┘└───────────────┘          ║  ║  ║ »\n",
       "c: 4/══════════════════════════════════════════════════════════════════╩══╩══╩═»\n",
       "                                                                       0  1  2 »\n",
       "«        \n",
       "«q_0: ───\n",
       "«        \n",
       "«q_1: ───\n",
       "«        \n",
       "«q_2: ───\n",
       "«     ┌─┐\n",
       "«q_3: ┤M├\n",
       "«     └╥┘\n",
       "«q_4: ─╫─\n",
       "«      ║ \n",
       "«q_5: ─╫─\n",
       "«      ║ \n",
       "«q_6: ─╫─\n",
       "«      ║ \n",
       "«q_7: ─╫─\n",
       "«      ║ \n",
       "«q_8: ─╫─\n",
       "«      ║ \n",
       "«c: 4/═╩═\n",
       "«      3 "
      ]
     },
     "execution_count": 155,
     "metadata": {},
     "output_type": "execute_result"
    }
   ],
   "source": [
    "def Shor21():\n",
    "    ##Your circuit for creating quantum circuit shor_QPT of factoring 21 starts here\n",
    "    a = 8 # By default, you can use a=2 \n",
    "    N = 21\n",
    "    m = int(np.ceil(np.log2(N)))\n",
    "    \n",
    "    U_qc = QuantumCircuit(m)\n",
    "    U_qc.x(4)\n",
    "    U_qc.x(2)\n",
    "    U_qc.x(0)\n",
    "    # U_qc.swap(3,4) #need to figure out how to make the swap circuit\n",
    "    # U_qc.swap(2,3)\n",
    "    # U_qc.swap(1,2)\n",
    "    # U_qc.swap(0,1)\n",
    "\n",
    "    U = U_qc.to_gate()\n",
    "    U.name ='{}Mod{}'.format(2, N)\n",
    "\n",
    "    t = 4\n",
    "    shor_QPE = QuantumCircuit(t+m, t)\n",
    "    shor_QPE.h(range(t))\n",
    "    shor_QPE.x(t)\n",
    "\n",
    "    for idx in range(t-1):\n",
    "        shor_QPE.append(_cU_multi(U,m,idx), [idx]+ list(range(t,t+m)))\n",
    "    \n",
    "    qft_dag = qft(t).inverse()\n",
    "    qft_dag.name = 'QFT+'\n",
    "    \n",
    "    shor_QPE.append(qft_dag, range(t))\n",
    "    shor_QPE.measure(range(t), range(t))\n",
    "        \n",
    "    ##Your circuit for creating quantum circuit shor_QPT of factoring 21 ends here    \n",
    "    backend = AerSimulator()\n",
    "    transpiled_circuit = transpile(shor_QPE, backend)\n",
    "    job = backend.run(transpiled_circuit, shots=1000, memory=True)\n",
    "    count_QPE= job.result().get_counts()\n",
    "    return a, shor_QPE, count_QPE\n",
    "\n",
    "#a,b,c= Shor21()\n",
    "#b.draw()"
   ]
  },
  {
   "cell_type": "markdown",
   "id": "b218368e",
   "metadata": {},
   "source": [
    "### Major differences in Shor21():\n",
    "\n",
    "For this case. I used a=8 which generates an expected period (r value) of 2. Therefore, on a non-noisy simulation all of the counts fall on the phase values of 0 and 0.5. The QPE simulations are noisier, and there are more phase values that counts are distributed to making the algorithim perform worse on this value than 15. this is mainly because an extra bit is needed to represent numbers 16-31"
   ]
  },
  {
   "cell_type": "code",
   "execution_count": 156,
   "id": "01e9be1a",
   "metadata": {},
   "outputs": [
    {
     "data": {
      "image/png": "[encoded data removed]",
      "text/plain": [
       "<Figure size 640x480 with 1 Axes>"
      ]
     },
     "execution_count": 156,
     "metadata": {},
     "output_type": "execute_result"
    }
   ],
   "source": [
    "backend = AerSimulator()\n",
    "\n",
    "transpiled_circuit = transpile(b, backend)\n",
    "job = backend.run(transpiled_circuit, shots=1000, memory=True)\n",
    "count_QPE= job.result().get_counts()\n",
    "\n",
    "key_new = [str(int(key,2)/2**4) for key in count_QPE.keys()]\n",
    "count_new_QPE = dict(zip(key_new, count_QPE.values()))\n",
    "plot_histogram(count_new_QPE)"
   ]
  },
  {
   "cell_type": "code",
   "execution_count": 158,
   "id": "46c032f6",
   "metadata": {},
   "outputs": [
    {
     "data": {
      "image/png": "[encoded data removed]",
      "text/plain": [
       "<Figure size 640x480 with 1 Axes>"
      ]
     },
     "execution_count": 158,
     "metadata": {},
     "output_type": "execute_result"
    }
   ],
   "source": [
    "transpiled_circuit = transpile(b, backend)\n",
    "p=0.3\n",
    "noisemodel = construct_bitphaseflip_noise_model(p)\n",
    "job = backend.run(transpiled_circuit,noise_model=noisemodel, shots=1000, memory=True)\n",
    "count_Orig= job.result().get_counts()\n",
    "key_new = [str(int(key,2)/2**5) for key in count_Orig.keys()]\n",
    "count_Orig = dict(zip(key_new, count_Orig.values()))\n",
    "if p>0:\n",
    "    plot_title = \"QPE simulation with noise p=\" + str(p)\n",
    "else:\n",
    "    plot_title = \"QPE simulation with no noise\"\n",
    "plot_histogram(count_Orig, title=plot_title)"
   ]
  },
  {
   "cell_type": "markdown",
   "id": "4cdee684-970c-466b-9017-0d7de23a2387",
   "metadata": {},
   "source": [
    "Please implement the following function of factoring 63. \n",
    "You should submit this function in .py file."
   ]
  },
  {
   "cell_type": "code",
   "execution_count": null,
   "id": "547891dc-709c-4f6c-a9c2-b9546fbcbfe8",
   "metadata": {},
   "outputs": [
    {
     "data": {
      "text/html": [
       "<pre style=\"word-wrap: normal;white-space: pre;background: #fff0;line-height: 1.1;font-family: &quot;Courier New&quot;,Courier,monospace\">     ┌───┐                                                                    »\n",
       "q_0: ┤ H ├────────■───────────────────────────────────────────────────────────»\n",
       "     ├───┤        │                                                           »\n",
       "q_1: ┤ H ├────────┼────────────────■──────────────────────────────────────────»\n",
       "     ├───┤        │                │                                          »\n",
       "q_2: ┤ H ├────────┼────────────────┼────────────────■─────────────────────────»\n",
       "     ├───┤        │                │                │                         »\n",
       "q_3: ┤ H ├────────┼────────────────┼────────────────┼────────────────■────────»\n",
       "     ├───┤        │                │                │                │        »\n",
       "q_4: ┤ H ├────────┼────────────────┼────────────────┼────────────────┼────────»\n",
       "     ├───┤┌───────┴───────┐┌───────┴───────┐┌───────┴───────┐┌───────┴───────┐»\n",
       "q_5: ┤ X ├┤0              ├┤0              ├┤0              ├┤0              ├»\n",
       "     └───┘│               ││               ││               ││               │»\n",
       "q_6: ─────┤1              ├┤1              ├┤1              ├┤1              ├»\n",
       "          │               ││               ││               ││               │»\n",
       "q_7: ─────┤2 7Mod15_[2^0] ├┤2 7Mod15_[2^1] ├┤2 7Mod15_[2^2] ├┤2 7Mod15_[2^3] ├»\n",
       "          │               ││               ││               ││               │»\n",
       "q_8: ─────┤3              ├┤3              ├┤3              ├┤3              ├»\n",
       "          │               ││               ││               ││               │»\n",
       "q_9: ─────┤4              ├┤4              ├┤4              ├┤4              ├»\n",
       "          └───────────────┘└───────────────┘└───────────────┘└───────────────┘»\n",
       "c: 5/═════════════════════════════════════════════════════════════════════════»\n",
       "                                                                              »\n",
       "«     ┌───────┐┌─┐            \n",
       "«q_0: ┤0      ├┤M├────────────\n",
       "«     │       │└╥┘┌─┐         \n",
       "«q_1: ┤1      ├─╫─┤M├─────────\n",
       "«     │       │ ║ └╥┘┌─┐      \n",
       "«q_2: ┤2 QFT+ ├─╫──╫─┤M├──────\n",
       "«     │       │ ║  ║ └╥┘┌─┐   \n",
       "«q_3: ┤3      ├─╫──╫──╫─┤M├───\n",
       "«     │       │ ║  ║  ║ └╥┘┌─┐\n",
       "«q_4: ┤4      ├─╫──╫──╫──╫─┤M├\n",
       "«     └───────┘ ║  ║  ║  ║ └╥┘\n",
       "«q_5: ──────────╫──╫──╫──╫──╫─\n",
       "«               ║  ║  ║  ║  ║ \n",
       "«q_6: ──────────╫──╫──╫──╫──╫─\n",
       "«               ║  ║  ║  ║  ║ \n",
       "«q_7: ──────────╫──╫──╫──╫──╫─\n",
       "«               ║  ║  ║  ║  ║ \n",
       "«q_8: ──────────╫──╫──╫──╫──╫─\n",
       "«               ║  ║  ║  ║  ║ \n",
       "«q_9: ──────────╫──╫──╫──╫──╫─\n",
       "«               ║  ║  ║  ║  ║ \n",
       "«c: 5/══════════╩══╩══╩══╩══╩═\n",
       "«               0  1  2  3  4 </pre>"
      ],
      "text/plain": [
       "     ┌───┐                                                                    »\n",
       "q_0: ┤ H ├────────■───────────────────────────────────────────────────────────»\n",
       "     ├───┤        │                                                           »\n",
       "q_1: ┤ H ├────────┼────────────────■──────────────────────────────────────────»\n",
       "     ├───┤        │                │                                          »\n",
       "q_2: ┤ H ├────────┼────────────────┼────────────────■─────────────────────────»\n",
       "     ├───┤        │                │                │                         »\n",
       "q_3: ┤ H ├────────┼────────────────┼────────────────┼────────────────■────────»\n",
       "     ├───┤        │                │                │                │        »\n",
       "q_4: ┤ H ├────────┼────────────────┼────────────────┼────────────────┼────────»\n",
       "     ├───┤┌───────┴───────┐┌───────┴───────┐┌───────┴───────┐┌───────┴───────┐»\n",
       "q_5: ┤ X ├┤0              ├┤0              ├┤0              ├┤0              ├»\n",
       "     └───┘│               ││               ││               ││               │»\n",
       "q_6: ─────┤1              ├┤1              ├┤1              ├┤1              ├»\n",
       "          │               ││               ││               ││               │»\n",
       "q_7: ─────┤2 7Mod15_[2^0] ├┤2 7Mod15_[2^1] ├┤2 7Mod15_[2^2] ├┤2 7Mod15_[2^3] ├»\n",
       "          │               ││               ││               ││               │»\n",
       "q_8: ─────┤3              ├┤3              ├┤3              ├┤3              ├»\n",
       "          │               ││               ││               ││               │»\n",
       "q_9: ─────┤4              ├┤4              ├┤4              ├┤4              ├»\n",
       "          └───────────────┘└───────────────┘└───────────────┘└───────────────┘»\n",
       "c: 5/═════════════════════════════════════════════════════════════════════════»\n",
       "                                                                              »\n",
       "«     ┌───────┐┌─┐            \n",
       "«q_0: ┤0      ├┤M├────────────\n",
       "«     │       │└╥┘┌─┐         \n",
       "«q_1: ┤1      ├─╫─┤M├─────────\n",
       "«     │       │ ║ └╥┘┌─┐      \n",
       "«q_2: ┤2 QFT+ ├─╫──╫─┤M├──────\n",
       "«     │       │ ║  ║ └╥┘┌─┐   \n",
       "«q_3: ┤3      ├─╫──╫──╫─┤M├───\n",
       "«     │       │ ║  ║  ║ └╥┘┌─┐\n",
       "«q_4: ┤4      ├─╫──╫──╫──╫─┤M├\n",
       "«     └───────┘ ║  ║  ║  ║ └╥┘\n",
       "«q_5: ──────────╫──╫──╫──╫──╫─\n",
       "«               ║  ║  ║  ║  ║ \n",
       "«q_6: ──────────╫──╫──╫──╫──╫─\n",
       "«               ║  ║  ║  ║  ║ \n",
       "«q_7: ──────────╫──╫──╫──╫──╫─\n",
       "«               ║  ║  ║  ║  ║ \n",
       "«q_8: ──────────╫──╫──╫──╫──╫─\n",
       "«               ║  ║  ║  ║  ║ \n",
       "«q_9: ──────────╫──╫──╫──╫──╫─\n",
       "«               ║  ║  ║  ║  ║ \n",
       "«c: 5/══════════╩══╩══╩══╩══╩═\n",
       "«               0  1  2  3  4 "
      ]
     },
     "execution_count": 148,
     "metadata": {},
     "output_type": "execute_result"
    }
   ],
   "source": [
    "def Shor63():\n",
    "    ##Your circuit for creating quantum circuit shor_QPT of factoring 63 starts here\n",
    "    shor_QPE=None\n",
    "    a = 8 # By default, you can use a=2    \n",
    "    N = 63\n",
    "    m = int(np.ceil(np.log2(N)))\n",
    "    \n",
    "    U_qc = QuantumCircuit(m)\n",
    "    U_qc.x(range(m))\n",
    "    # U_qc.swap(3,4) #need to figure out how to make the swap circuit\n",
    "    # U_qc.swap(2,3)\n",
    "    # U_qc.swap(1,2)\n",
    "    # U_qc.swap(0,1)\n",
    "\n",
    "    U = U_qc.to_gate()\n",
    "    U.name ='{}Mod{}'.format(2, N)\n",
    "\n",
    "    t = 5\n",
    "    shor_QPE = QuantumCircuit(t+m, t)\n",
    "    shor_QPE.h(range(t))\n",
    "    shor_QPE.x(t)\n",
    "\n",
    "    for idx in range(t-1):\n",
    "        shor_QPE.append(_cU_multi(U,m,idx), [idx]+ list(range(t,t+m)))\n",
    "    \n",
    "    qft_dag = qft(t).inverse()\n",
    "    qft_dag.name = 'QFT+'\n",
    "    \n",
    "    shor_QPE.append(qft_dag, range(t))\n",
    "    shor_QPE.measure(range(t), range(t))\n",
    "    \n",
    "    ##Your circuit for creating quantum circuit shor_QPT of factoring 63 ends here    \n",
    "    backend = AerSimulator()\n",
    "    transpiled_circuit = transpile(shor_QPE, backend)\n",
    "    job = backend.run(transpiled_circuit, shots=1000, memory=True)\n",
    "    count_QPE= job.result().get_counts()\n",
    "    return a, shor_QPE, count_QPE\n",
    "\n",
    "#shor_QPE.draw()"
   ]
  },
  {
   "cell_type": "markdown",
   "id": "a737bf10",
   "metadata": {},
   "source": [
    "### Major differences in Shor63():\n",
    "\n",
    "For this case I also used a=8 which generates an expected period (r value) of 2. Therefore, on a non-noisy simulation all of the counts fall on the phase values of 0 and 0.5. The QPE simulations are much noisier than 15 and 23, and there are more phase values that counts are distributed to making the algorithim perform worse on this value than both values. This illustrates the (current) issues with aplpying Shor's algorithims in useful cases."
   ]
  },
  {
   "cell_type": "code",
   "execution_count": 143,
   "id": "f64bfe82",
   "metadata": {},
   "outputs": [
    {
     "data": {
      "image/png": "[encoded data removed]",
      "text/plain": [
       "<Figure size 640x480 with 1 Axes>"
      ]
     },
     "execution_count": 143,
     "metadata": {},
     "output_type": "execute_result"
    }
   ],
   "source": [
    "backend = AerSimulator()\n",
    "\n",
    "transpiled_circuit = transpile(b, backend)\n",
    "job = backend.run(transpiled_circuit, shots=1000, memory=True)\n",
    "count_QPE= job.result().get_counts()\n",
    "\n",
    "key_new = [str(int(key,2)/2**5) for key in count_QPE.keys()]\n",
    "count_new_QPE = dict(zip(key_new, count_QPE.values()))\n",
    "plot_histogram(count_new_QPE)"
   ]
  },
  {
   "cell_type": "code",
   "execution_count": 159,
   "id": "42839733",
   "metadata": {},
   "outputs": [
    {
     "data": {
      "image/png": "[encoded data removed]",
      "text/plain": [
       "<Figure size 640x480 with 1 Axes>"
      ]
     },
     "execution_count": 159,
     "metadata": {},
     "output_type": "execute_result"
    }
   ],
   "source": [
    "transpiled_circuit = transpile(shor_QPE, backend)\n",
    "p=0.3\n",
    "noisemodel = construct_bitphaseflip_noise_model(p)\n",
    "job = backend.run(transpiled_circuit,noise_model=noisemodel, shots=1000, memory=True)\n",
    "count_Orig= job.result().get_counts()\n",
    "key_new = [str(int(key,2)/2**5) for key in count_Orig.keys()]\n",
    "count_Orig = dict(zip(key_new, count_Orig.values()))\n",
    "if p>0:\n",
    "    plot_title = \"QPE simulation with noise p=\" + str(p)\n",
    "else:\n",
    "    plot_title = \"QPE simulation with no noise\"\n",
    "plot_histogram(count_Orig, title=plot_title)"
   ]
  },
  {
   "cell_type": "markdown",
   "id": "a5ea3eb6",
   "metadata": {},
   "source": [
    "# Testing code is below:"
   ]
  },
  {
   "cell_type": "code",
   "execution_count": 150,
   "id": "60ce4af3",
   "metadata": {},
   "outputs": [
    {
     "name": "stdout",
     "output_type": "stream",
     "text": [
      "-----------Starting the tests of IBM Lab3: Scalable Shor's algorithm-----------\n",
      "\u001b[32mCongrats, Shor15 Test passed!\u001b[0m😀\n",
      "\u001b[32mCongrats, Shor21 Test passed!\u001b[0m😀\n",
      "\u001b[32mCongrats, Shor63 Test passed!\u001b[0m😀\n",
      "--------------------------Your score is:--------------------------\n"
     ]
    }
   ],
   "source": [
    "from qiskit import *\n",
    "from qiskit_aer import AerSimulator\n",
    "import numpy as np\n",
    "from qiskit.visualization import plot_histogram\n",
    "import matplotlib.pyplot as plt\n",
    "import math\n",
    "from termcolor import colored\n",
    "\n",
    "\n",
    "def _cU_multi(U,m,k):\n",
    "    circ = QuantumCircuit(m)\n",
    "    for _ in range(2**k):\n",
    "        circ.append(U, range(m))\n",
    "    \n",
    "    U_multi = circ.to_gate()\n",
    "    U_multi.name = '7Mod15_[2^{}]'.format(k)\n",
    "    \n",
    "    cU_multi = U_multi.control()\n",
    "    return cU_multi\n",
    "\n",
    "\n",
    "def qft(n):\n",
    "    \"\"\"Creates an n-qubit QFT circuit\"\"\"\n",
    "    circuit = QuantumCircuit(n)\n",
    "    def swap_registers(circuit, n):\n",
    "        for qubit in range(n//2):\n",
    "            circuit.swap(qubit, n-qubit-1)\n",
    "        return circuit\n",
    "    def qft_rotations(circuit, n):\n",
    "        \"\"\"Performs qft on the first n qubits in circuit (without swaps)\"\"\"\n",
    "        if n == 0:\n",
    "            return circuit\n",
    "        n -= 1\n",
    "        circuit.h(n)\n",
    "        for qubit in range(n):\n",
    "            circuit.cp(np.pi/2**(n-qubit), qubit, n)\n",
    "        qft_rotations(circuit, n)\n",
    "    \n",
    "    qft_rotations(circuit, n)\n",
    "    swap_registers(circuit, n)\n",
    "    return circuit\n",
    "\n",
    "\n",
    "\n",
    "def orderfinding(a,N):\n",
    "    r=2\n",
    "    tmp=(a**2)%N\n",
    "    while(tmp!=1):\n",
    "        r+=1\n",
    "        tmp=(tmp*a)%N\n",
    "    return r\n",
    "\n",
    "\n",
    "\n",
    "# find the closest N/M to a value, such that N<Nmax, M<Mmax \n",
    "def find_closest_fraction(value,Nmax,Mmax):\n",
    "    currentBest=(-1,-1)\n",
    "    currentdiff=10000000000\n",
    "    for N in range(1,Nmax):\n",
    "        for M in range(N+1,Mmax):\n",
    "            diff=abs(value-N/M)\n",
    "            if diff<currentdiff:\n",
    "                currentBest=(N,M)\n",
    "                currentdiff=diff\n",
    "    return currentBest[0],currentBest[1]\n",
    "\n",
    "\n",
    "\n",
    "def binary_string_to_float(bstr,nq):\n",
    "    value=int(bstr, base=2)/(2**(nq))\n",
    "    return value\n",
    "\n",
    "\n",
    "\n",
    "def testMod15():\n",
    "    a, shor_QPE,count_QPE=Shor15()\n",
    "    '''\n",
    "    For each large count, try to use that as and order and factor 15\n",
    "    '''\n",
    "    if(math.gcd(a,15)!=1):\n",
    "        print(colored('OOPS, Shor15 Test failed! '+str(a)+' you use has no order modular 15','red')+\"\\U0001F923\")  \n",
    "        return\n",
    "    r=orderfinding(a,15)\n",
    "    if((r%2)==1):\n",
    "        print(colored('OOPS, Shor15 Test failed! '+str(a)+' you use has odd order modular 15','red')+\"\\U0001F923\")  \n",
    "        return          \n",
    "    \n",
    "    factor=math.gcd(a**(r//2)-1,15)\n",
    "    if(factor==1): \n",
    "        print(colored('OOPS, Shor15 Test failed! '+str(a)+' you use won\\'t give you non-trivial divisor of 15','red')+\"\\U0001F923\")  \n",
    "        return               \n",
    "\n",
    "\n",
    "    # Sort dictionary by value in descending order and keep top r keys\n",
    "    nq=len(list(count_QPE.keys())[0])\n",
    "\n",
    "    top_prob_measurement = list((dict(sorted(count_QPE.items(), key=lambda item: item[1], reverse=True)[:r])).keys())\n",
    "    top_prob_value=[binary_string_to_float(x,nq) for x in top_prob_measurement]\n",
    "    \n",
    "    top_prob_value=[x for x in top_prob_value if x !=0]\n",
    "\n",
    "\n",
    "    closestNMpair=[find_closest_fraction(value,15,15) for value in top_prob_value]\n",
    "    Mlist=[x[1] for x in closestNMpair]\n",
    "    rtest=math.lcm(*Mlist)\n",
    "    if(rtest!=r):\n",
    "        print(colored('OOPS, Shor15 Test failed! The order you find is not correct for '+str(a),'red')+\"\\U0001F923\")  \n",
    "        return        \n",
    "    \n",
    "    print(colored('Congrats, Shor15 Test passed!','green')+\"\\U0001f600\")    \n",
    "\n",
    "\n",
    "\n",
    "def testMod21():\n",
    "    a, shor_QPE,count_QPE=Shor21()\n",
    "    '''\n",
    "    For each large count, try to use that as and order and factor 21\n",
    "    '''\n",
    "    if(math.gcd(a,21)!=1):\n",
    "        print(colored('OOPS, Shor21 Test failed! '+str(a)+' you use has no order modular 21','red')+\"\\U0001F923\")  \n",
    "        return\n",
    "    r=orderfinding(a,21)\n",
    "    if((r%2)==1):\n",
    "        print(colored('OOPS, Shor21 Test failed! '+str(a)+' you use has odd order modular 21','red')+\"\\U0001F923\")  \n",
    "        return          \n",
    "    \n",
    "    factor=math.gcd(a**(r//2)-1,21)\n",
    "    if(factor==1): \n",
    "        print(colored('OOPS, Shor21 Test failed! '+str(a)+' you use won\\'t give you non-trivial divisor of 21','red')+\"\\U0001F923\")  \n",
    "        return               \n",
    "\n",
    "\n",
    "    # Sort dictionary by value in descending order and keep top r keys\n",
    "    nq=len(list(count_QPE.keys())[0])\n",
    "\n",
    "    top_prob_measurement = list((dict(sorted(count_QPE.items(), key=lambda item: item[1], reverse=True)[:r])).keys())\n",
    "    top_prob_value=[binary_string_to_float(x,nq) for x in top_prob_measurement]\n",
    "    \n",
    "    top_prob_value=[x for x in top_prob_value if x !=0]\n",
    "\n",
    "\n",
    "    closestNMpair=[find_closest_fraction(value,21,21) for value in top_prob_value]\n",
    "    Mlist=[x[1] for x in closestNMpair]\n",
    "    rtest=math.lcm(*Mlist)\n",
    "    if(rtest!=r):\n",
    "        print(colored('OOPS, Shor21 Test failed! The order you find is not correct for '+str(a),'red')+\"\\U0001F923\")  \n",
    "        return        \n",
    "    \n",
    "    print(colored('Congrats, Shor21 Test passed!','green')+\"\\U0001f600\")\n",
    "\n",
    "\n",
    "\n",
    "\n",
    "def testMod63():\n",
    "    a, shor_QPE,count_QPE=Shor63()\n",
    "    '''\n",
    "    For each large count, try to use that as and order and factor 63\n",
    "    '''\n",
    "    if(math.gcd(a,63)!=1):\n",
    "        print(colored('OOPS, Shor63 Test failed! '+str(a)+' you use has no order modular 63','red')+\"\\U0001F923\")  \n",
    "        return\n",
    "    r=orderfinding(a,63)\n",
    "    if((r%2)==1):\n",
    "        print(colored('OOPS, Shor63 Test failed! '+str(a)+' you use has odd order modular 63','red')+\"\\U0001F923\")  \n",
    "        return          \n",
    "    \n",
    "    factor=math.gcd(a**(r//2)-1,63)\n",
    "    if(factor==1): \n",
    "        print(colored('OOPS, Shor63 Test failed! '+str(a)+' you use won\\'t give you non-trivial divisor of 63','red')+\"\\U0001F923\")  \n",
    "        return               \n",
    "\n",
    "\n",
    "    # Sort dictionary by value in descending order and keep top r keys\n",
    "    nq=len(list(count_QPE.keys())[0])\n",
    "\n",
    "    top_prob_measurement = list((dict(sorted(count_QPE.items(), key=lambda item: item[1], reverse=True)[:r])).keys())\n",
    "    top_prob_value=[binary_string_to_float(x,nq) for x in top_prob_measurement]\n",
    "    \n",
    "    top_prob_value=[x for x in top_prob_value if x !=0]\n",
    "\n",
    "\n",
    "    closestNMpair=[find_closest_fraction(value,63,63) for value in top_prob_value]\n",
    "    Mlist=[x[1] for x in closestNMpair]\n",
    "    rtest=math.lcm(*Mlist)\n",
    "    if(rtest!=r):\n",
    "        print(colored('OOPS, Shor63 Test failed! The order you find is not correct for '+str(a),'red')+\"\\U0001F923\")  \n",
    "        return        \n",
    "    \n",
    "    print(colored('Congrats, Shor63 Test passed!','green')+\"\\U0001f600\")\n",
    "\n",
    "\n",
    "\n",
    "\n",
    "\n",
    "if __name__ == '__main__':\n",
    "    print(\"-----------Starting the tests of IBM Lab3: Scalable Shor's algorithm-----------\")\n",
    "    testMod15()\n",
    "    testMod21()\n",
    "    testMod63()\n",
    "    print(\"--------------------------Your score is:--------------------------\")    "
   ]
  }
 ],
 "metadata": {
  "kernelspec": {
   "display_name": "new_env",
   "language": "python",
   "name": "python3"
  },
  "language_info": {
   "codemirror_mode": {
    "name": "ipython",
    "version": 3
   },
   "file_extension": ".py",
   "mimetype": "text/x-python",
   "name": "python",
   "nbconvert_exporter": "python",
   "pygments_lexer": "ipython3",
   "version": "3.11.9"
  }
 },
 "nbformat": 4,
 "nbformat_minor": 5
}
