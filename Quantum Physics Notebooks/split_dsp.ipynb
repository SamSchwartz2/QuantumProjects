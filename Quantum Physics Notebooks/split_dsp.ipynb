{
 "cells": [
  {
   "cell_type": "code",
   "execution_count": 2,
   "metadata": {},
   "outputs": [],
   "source": [
    "import numpy as np\n",
    "import random\n",
    "from qutip import *\n",
    "import matplotlib.pyplot as plt"
   ]
  },
  {
   "cell_type": "markdown",
   "metadata": {},
   "source": [
    "# Homework 5"
   ]
  },
  {
   "cell_type": "markdown",
   "metadata": {},
   "source": [
    "### 1a)"
   ]
  },
  {
   "cell_type": "markdown",
   "metadata": {},
   "source": [
    "p2 can only be as large as the channel efficiency number to guarantee secrecy from a spy. Any larger value would allow Eve to conduct a photon splitting attack while still transmitting enough photons within reason. When p2 < channel efficiency, it becomes very clear if there is a spy because a number of photons is significantly lower than what would be expected to a point of statistical improbability. Therefore in this channel, p2 must be less than .1 to ensure the detection of Eve."
   ]
  },
  {
   "cell_type": "markdown",
   "metadata": {},
   "source": [
    "### 1b)"
   ]
  },
  {
   "cell_type": "markdown",
   "metadata": {},
   "source": [
    "Alice Definition:"
   ]
  },
  {
   "cell_type": "code",
   "execution_count": 125,
   "metadata": {},
   "outputs": [
    {
     "name": "stdout",
     "output_type": "stream",
     "text": [
      "Alice's Photons Sent:\n",
      "Photon     Bit Sent        # of Photons sent    Quantum State            \n",
      "--------------------------------------------------\n",
      "0          1               1                    [0.71+0.00j, 0.71+0.00j] \n",
      "1          1               1                    [0.71+0.00j, 0.71+0.00j] \n",
      "2          1               1                    [0.71+0.00j, 0.71+0.00j] \n",
      "3          1               1                    [0.71+0.00j, 0.71+0.00j] \n",
      "4          1               2                    [0.71+0.00j, 0.71+0.00j] \n",
      "5          0               2                    [1.00+0.00j, 0.00+0.00j] \n",
      "6          1               1                    [0.71+0.00j, 0.71+0.00j] \n",
      "7          0               1                    [1.00+0.00j, 0.00+0.00j] \n"
     ]
    }
   ],
   "source": [
    "def Alice(Np, p2):\n",
    "    #output a list of Np rows, 2 columns\n",
    "    #first col = index, second col = qubit in polarization of sent photon (in H/V basis) - random\n",
    "    result = []\n",
    "    for a in range(Np):\n",
    "        count = 1\n",
    "        val = random.random() #randomly assigns horizontal or diagonal basis\n",
    "        if val >= .5: #if alice chooses horizontal basis\n",
    "            temp_ket = basis(2,0) #|0>\n",
    "        else: #if alice chooses diagonal basis\n",
    "            temp_ket = (basis(2,0) + basis(2,1)).unit() #|+>\n",
    "        if random.random() < p2:\n",
    "            count = 2\n",
    "        result.append([a,temp_ket, count])\n",
    "    return result\n",
    "\n",
    "alice_res = Alice(8, .1)\n",
    "\n",
    "# Print alice data (This printing/formatting code below is made with ChatGPT's help)\n",
    "print(\"Alice's Photons Sent:\")\n",
    "print(\"{:<10} {:<15} {:<20} {:<25}\".format('Photon', 'Bit Sent', '# of Photons sent', 'Quantum State'))\n",
    "print('-' * 50)  # Separator line\n",
    "for idx, state, count in alice_res:\n",
    "    # Determine the bit Alice sent based on the state\n",
    "    if state == basis(2, 0):\n",
    "        bit_sent = 0\n",
    "    else:\n",
    "        bit_sent = 1\n",
    "    # Convert the quantum state to a string representation\n",
    "    state_str = state.full().flatten()\n",
    "    state_str_formatted = f\"[{state_str[0]:.2f}, {state_str[1]:.2f}]\"\n",
    "    # Print the index, bit sent, and the quantum state\n",
    "    print(\"{:<10} {:<15} {:<20} {:<25}\".format(idx, bit_sent, count, state_str_formatted))"
   ]
  },
  {
   "cell_type": "markdown",
   "metadata": {},
   "source": [
    "Eve definition:"
   ]
  },
  {
   "cell_type": "code",
   "execution_count": 126,
   "metadata": {},
   "outputs": [],
   "source": [
    "def Eve(alice_arr, strat_check):\n",
    "    ket_one = basis(2,1) #|1>\n",
    "    ket_zero = basis(2,0) #|0>\n",
    "    ket_minus = (basis(2,0) - basis(2,1)).unit() #|->\n",
    "    ket_plus = (basis(2,0) + basis(2,1)).unit() #|+>\n",
    "    result = []\n",
    "    for photon in alice_arr:\n",
    "        ind, ket, photon_count = photon\n",
    "        if photon_count == 2: #if 2 photons sent, we can perform photon splitting attack, otherwise we will do nothing\n",
    "            result.append([ind, ket,1])\n",
    "        if photon_count ==1 and strat_check==True:\n",
    "            val = random.random()\n",
    "            if val >= .5: #if Eve chooses vertical basis\n",
    "                #probabilty we get a click = |<1|psi>|^2\n",
    "                prob = np.abs(ket_one.dag() * ket) ** 2\n",
    "                if prob >= .499: #if the click prob >= 50%, we know that alice chose diagonal basis and that she sent a 1\n",
    "                    result.append([ind, ket_plus,1]) #we recreate the plus state we know alice sent\n",
    "                else:\n",
    "                    rand = random.random() #if eve does not know what is sent, randomly choose between |0> and |+> to send to bob\n",
    "                    if rand >= 0.5:\n",
    "                        choice = ket_zero\n",
    "                    else:\n",
    "                        choice = ket_plus\n",
    "                    result.append([ind, choice,1])  \n",
    "            else: #if Eve chooses diagonal basis\n",
    "                prob = np.abs(ket_minus.dag() * ket) ** 2\n",
    "                if prob >= .499: #if the click prob >= 50%, we know that alice chose horizontal basis and that she sent a 0\n",
    "                    result.append([ind, ket_zero,1])\n",
    "                else:\n",
    "                    rand = random.random() #if eve does not know what is sent, randomly choose between |0> and |+> to send to bob\n",
    "                    if rand >= 0.5:\n",
    "                        choice = ket_zero\n",
    "                    else:\n",
    "                        choice = ket_plus\n",
    "                    result.append([ind, choice,1])\n",
    "    return result  \n"
   ]
  },
  {
   "cell_type": "markdown",
   "metadata": {},
   "source": [
    "Bob Definition:"
   ]
  },
  {
   "cell_type": "code",
   "execution_count": 127,
   "metadata": {},
   "outputs": [],
   "source": [
    "def Bob(alice_arr, efficiency):\n",
    "    ket_one = basis(2,1) #|1>\n",
    "    ket_minus = (basis(2,0) - basis(2,1)).unit() #|->\n",
    "    result = []\n",
    "    for photon in alice_arr:\n",
    "        ind, ket, count = photon\n",
    "        if random.random() > efficiency: #allows for us to test various channel efficiency vals if wanted\n",
    "            continue\n",
    "        val2 = random.random()\n",
    "        if val2 >= .5: #if Bob chooses vertical basis\n",
    "            #probabilty we get a click = |<1|ket>|^2\n",
    "            prob = np.abs(ket_one.dag() * ket) ** 2\n",
    "            if prob >= .499: #if the click prob >= 50%, we know that alice chose diagonal basis and that she sent a 1\n",
    "                result.append([ind, 1])\n",
    "\n",
    "        else: # if Bob chooses diagonal basis\n",
    "            prob = np.abs(ket_minus.dag() * ket) ** 2\n",
    "            if prob >= .499: #if the click prob >= 50%, we know that alice chose horizontal basis and that she sent a 0\n",
    "                result.append([ind, 0])\n",
    "    return result"
   ]
  },
  {
   "cell_type": "markdown",
   "metadata": {},
   "source": [
    "Analyze p2=.2 results"
   ]
  },
  {
   "cell_type": "code",
   "execution_count": 128,
   "metadata": {},
   "outputs": [
    {
     "name": "stdout",
     "output_type": "stream",
     "text": [
      "Error rate with Eve's presence:  0.151 ; Amount of measurements made by Bob:  53\n",
      "Error rate without Eve 0.0 ; Amount of measurements made by Bob:  55\n",
      "Error rate with Eve's presence (only splitting):  0.0 ; Amount of measurements made by Bob:  14\n"
     ]
    }
   ],
   "source": [
    "N = 1000\n",
    "p2 = .2\n",
    "#If eve present case\n",
    "alice_100 = Alice(N,.2)\n",
    "eve_output_split_only = Eve(alice_100, False)\n",
    "bob_output_eve_split = Bob(eve_output_split_only, .1)\n",
    "eve_output = Eve(alice_100, True)\n",
    "bob_output_eve = Bob(eve_output, .1)\n",
    "#if eve not present case\n",
    "bob_output = Bob(alice_100, .1)\n",
    "#print(\"Bob's output with no Eve\", bob_output)\n",
    "#print(\"Bob's output with Eve interference\", bob_output_eve)\n",
    "#error rate calculations\n",
    "alice_100_readable = []\n",
    "for ind, state, count in alice_100:\n",
    "    if state == basis(2,0): \n",
    "        alice_100_readable.append([ind, 0]) #if we are in Horizontal state she sends 0\n",
    "    else:\n",
    "        alice_100_readable.append([ind, 1]) #if we are in + state she sends 1\n",
    "\n",
    "accepted_eve = []\n",
    "for ind, bob_meas in bob_output_eve:\n",
    "    accepted_eve.append([ind, alice_100_readable[ind][1], bob_meas]) #array holds index, alice measurement, bob measurement\n",
    "accepted = []\n",
    "for ind, bm in bob_output:\n",
    "    accepted.append([ind, alice_100_readable[ind][1], bm])\n",
    "accepted_eve_split = []\n",
    "for ind, bob_meas in bob_output_eve_split:\n",
    "    accepted_eve_split.append([ind, alice_100_readable[ind][1], bob_meas]) #array holds index, alice measurement, bob measurement\n",
    "errors_eve = sum(1 for ind, a_bit, b_bit in accepted_eve if a_bit!=b_bit) #if the bit alice outputted != the bit bob recieved we know theres an error caused by eve (that rhymes!)\n",
    "error_rate_eve = round(errors_eve/len(accepted_eve),3)\n",
    "errors = sum(1 for ind, a_bit, b_bit in accepted if a_bit!=b_bit) #if the bit alice outputted != the bit bob recieved we know theres an error caused by eve (that rhymes!)\n",
    "error_rate = round(errors/len(accepted),3)\n",
    "errors_eve_split = sum(1 for ind, a_bit, b_bit in accepted_eve_split if a_bit!=b_bit) #if the bit alice outputted != the bit bob recieved we know theres an error caused by eve (that rhymes!)\n",
    "error_rate_eve_split = round(errors_eve_split/len(accepted_eve_split),3)\n",
    "\n",
    "print(\"Error rate with Eve's presence: \", error_rate_eve, \"; Amount of measurements made by Bob: \", len(bob_output_eve)) #if you want to see Eve's hybrid strategy\n",
    "print(\"Error rate without Eve\", error_rate, \"; Amount of measurements made by Bob: \", len(bob_output))\n",
    "print(\"Error rate with Eve's presence (only splitting): \", error_rate_eve_split, \"; Amount of measurements made by Bob: \", len(bob_output_eve_split))\n",
    "\n",
    "        "
   ]
  },
  {
   "cell_type": "markdown",
   "metadata": {},
   "source": [
    "Here, while it is clear that the # of photons Bob recieves if eve only sends photons from photon splitting attacks is less than expected, it is still generally within reason. It is feasibly possible for Eve to conduct a ohoton splitting attack if p2 = .2"
   ]
  },
  {
   "cell_type": "markdown",
   "metadata": {},
   "source": [
    "Analyzing p2=.05 results"
   ]
  },
  {
   "cell_type": "code",
   "execution_count": 129,
   "metadata": {},
   "outputs": [
    {
     "name": "stdout",
     "output_type": "stream",
     "text": [
      "Error rate without Eve 0.0 ; Amount of measurements made by Bob:  52\n",
      "Error rate with Eve's presence (only splitting):  0.0 ; Amount of measurements made by Bob:  1\n"
     ]
    }
   ],
   "source": [
    "N = 1000\n",
    "p2 = .05\n",
    "#If eve present case\n",
    "alice_100 = Alice(N,p2)\n",
    "eve_output_split_only = Eve(alice_100, False)\n",
    "bob_output_eve_split = Bob(eve_output_split_only, .1)\n",
    "eve_output = Eve(alice_100, True)\n",
    "bob_output_eve = Bob(eve_output, .1)\n",
    "#if eve not present case\n",
    "bob_output = Bob(alice_100, .1)\n",
    "#print(\"Bob's output with no Eve\", bob_output)\n",
    "#print(\"Bob's output with Eve interference\", bob_output_eve)\n",
    "#error rate calculations\n",
    "alice_100_readable = []\n",
    "for ind, state, count in alice_100:\n",
    "    if state == basis(2,0): \n",
    "        alice_100_readable.append([ind, 0]) #if we are in Horizontal state she sends 0\n",
    "    else:\n",
    "        alice_100_readable.append([ind, 1]) #if we are in + state she sends 1\n",
    "\n",
    "accepted_eve = []\n",
    "for ind, bob_meas in bob_output_eve:\n",
    "    accepted_eve.append([ind, alice_100_readable[ind][1], bob_meas]) #array holds index, alice measurement, bob measurement\n",
    "accepted = []\n",
    "for ind, bm in bob_output:\n",
    "    accepted.append([ind, alice_100_readable[ind][1], bm])\n",
    "accepted_eve_split = []\n",
    "for ind, bob_meas in bob_output_eve_split:\n",
    "    accepted_eve_split.append([ind, alice_100_readable[ind][1], bob_meas]) #array holds index, alice measurement, bob measurement\n",
    "errors_eve = sum(1 for ind, a_bit, b_bit in accepted_eve if a_bit!=b_bit) #if the bit alice outputted != the bit bob recieved we know theres an error caused by eve (that rhymes!)\n",
    "error_rate_eve = round(errors_eve/len(accepted_eve),3)\n",
    "errors = sum(1 for ind, a_bit, b_bit in accepted if a_bit!=b_bit) #if the bit alice outputted != the bit bob recieved we know theres an error caused by eve (that rhymes!)\n",
    "error_rate = round(errors/len(accepted),3)\n",
    "errors_eve_split = sum(1 for ind, a_bit, b_bit in accepted_eve_split if a_bit!=b_bit) #if the bit alice outputted != the bit bob recieved we know theres an error caused by eve (that rhymes!)\n",
    "error_rate_eve_split = round(errors_eve_split/len(accepted_eve_split),3)\n",
    "\n",
    "#print(\"Error rate with Eve's presence: \", error_rate_eve, \"; Amount of measurements made by Bob: \", len(bob_output_eve))\n",
    "print(\"Error rate without Eve\", error_rate, \"; Amount of measurements made by Bob: \", len(bob_output))\n",
    "print(\"Error rate with Eve's presence (only splitting): \", error_rate_eve_split, \"; Amount of measurements made by Bob: \", len(bob_output_eve_split))\n",
    "\n",
    "        "
   ]
  },
  {
   "cell_type": "markdown",
   "metadata": {},
   "source": [
    "Here, it is very clear when Eve has executed a photon splitting attack. She will be caught if trying to do so since Bob will accept barely any photons when she is doing so. Eve cannot conduct a photon splitting attack when p2=.05"
   ]
  },
  {
   "cell_type": "markdown",
   "metadata": {},
   "source": [
    "### Problem 2) Decoy State Protocol"
   ]
  },
  {
   "cell_type": "code",
   "execution_count": 166,
   "metadata": {},
   "outputs": [],
   "source": [
    "def Alice(Np, p2, decoy_percent):\n",
    "    #output a list of Np rows, 2 columns\n",
    "    #first col = index, second col = qubit in polarization of sent photon (in H/V basis) - random\n",
    "    result = []\n",
    "    for a in range(Np):\n",
    "        count = 1\n",
    "        decoy_state = (random.random() < decoy_percent) #given some % of states that are decoys\n",
    "        val = random.random() #randomly assigns horizontal or diagonal basis\n",
    "        if val >= .5: #if alice chooses horizontal basis\n",
    "            temp_ket = basis(2,0) #|0>\n",
    "        else: #if alice chooses diagonal basis\n",
    "            temp_ket = (basis(2,0) + basis(2,1)).unit() #|+>\n",
    "        if decoy_state ==True or random.random() < p2 : #all decoy states are multi-photon\n",
    "            count = 2\n",
    "        result.append([a,temp_ket, count, decoy_state])\n",
    "    return result\n",
    "\n",
    "def Eve(alice_arr):\n",
    "    ket_one = basis(2,1) #|1>\n",
    "    ket_zero = basis(2,0) #|0>\n",
    "    ket_minus = (basis(2,0) - basis(2,1)).unit() #|->\n",
    "    ket_plus = (basis(2,0) + basis(2,1)).unit() #|+>\n",
    "    result = []\n",
    "    for photon in alice_arr:\n",
    "        ind, ket, photon_count, filler = photon #we'll name the decoy filler here since Eve will not know about the decoys. \n",
    "        if photon_count == 2: #if 2 photons sent, we can perform photon splitting attack, otherwise we will do nothing\n",
    "            result.append([ind, ket,1,filler])\n",
    "        # else:\n",
    "        #     val = random.random()\n",
    "        #     if val >= .5: #if Eve chooses vertical basis\n",
    "        #         #probabilty we get a click = |<1|psi>|^2\n",
    "        #         prob = np.abs(ket_one.dag() * ket) ** 2\n",
    "        #         if prob >= .499: #if the click prob >= 50%, we know that alice chose diagonal basis and that she sent a 1\n",
    "        #             result.append([ind, ket_plus,1,filler]) #we recreate the plus state we know alice sent\n",
    "        #         else:\n",
    "        #             rand = random.random() #if eve does not know what is sent, randomly choose between |0> and |+> to send to bob\n",
    "        #             if rand >= 0.5:\n",
    "        #                 choice = ket_zero\n",
    "        #             else:\n",
    "        #                 choice = ket_plus\n",
    "        #             result.append([ind, choice,1,filler])  \n",
    "        #     else: #if Eve chooses diagonal basis\n",
    "        #         prob = np.abs(ket_minus.dag() * ket) ** 2\n",
    "        #         if prob >= .499: #if the click prob >= 50%, we know that alice chose horizontal basis and that she sent a 0\n",
    "        #             result.append([ind, ket_zero,1,filler])\n",
    "        #         else:\n",
    "        #             rand = random.random() #if eve does not know what is sent, randomly choose between |0> and |+> to send to bob\n",
    "        #             if rand >= 0.5:\n",
    "        #                 choice = ket_zero\n",
    "        #             else:\n",
    "        #                 choice = ket_plus\n",
    "        #             result.append([ind, choice,1,filler])\n",
    "    return result  \n",
    "\n",
    " \n",
    "def Bob(alice_arr, efficiency):\n",
    "    ket_one = basis(2,1) #|1>\n",
    "    ket_minus = (basis(2,0) - basis(2,1)).unit() #|->\n",
    "    result = []\n",
    "    for photon in alice_arr:\n",
    "        ind, ket, count, is_decoy = photon\n",
    "        if random.random() > efficiency: #allows for us to test various channel efficiency vals if wanted\n",
    "            continue\n",
    "        val2 = random.random()\n",
    "        if val2 >= .5: #if Bob chooses vertical basis\n",
    "            #probabilty we get a click = |<1|ket>|^2\n",
    "            prob = np.abs(ket_one.dag() * ket) ** 2\n",
    "            if prob >= .499: #if the click prob >= 50%, we know that alice chose diagonal basis and that she sent a 1\n",
    "                result.append([ind, 1, is_decoy])\n",
    "\n",
    "        else: # if Bob chooses diagonal basis\n",
    "            prob = np.abs(ket_minus.dag() * ket) ** 2\n",
    "            if prob >= .499: #if the click prob >= 50%, we know that alice chose horizontal basis and that she sent a 0\n",
    "                result.append([ind, 0, is_decoy])\n",
    "    return result\n",
    "\n"
   ]
  },
  {
   "cell_type": "code",
   "execution_count": 175,
   "metadata": {},
   "outputs": [
    {
     "name": "stdout",
     "output_type": "stream",
     "text": [
      "Overall channel efficiency: 0.0312\n",
      "Decoy channel efficiency: 0.10854271356783919\n"
     ]
    }
   ],
   "source": [
    "N = 10000\n",
    "p2 = .2 #we'll set p2=.2 for this example, normally Alice would not be able to detect Eve with this p2 value\n",
    "decoy_percent = .1 #10% percent of states will be 2 photon decoy states\n",
    "alice_output = Alice(N,p2,decoy_percent)\n",
    "eve_output = Eve(alice_output)\n",
    "bob_output_eve = Bob(eve_output, .1)\n",
    "#now we want to measure the channel efficiencies for the decoy states and non-decoy states\n",
    "general_channel_eff = ((len(bob_output_eve))*2)/N\n",
    "print(\"Overall channel efficiency:\", general_channel_eff)\n",
    "\n",
    "amt_decoy_sent = 0\n",
    "for ind, state, count, decoy in alice_output:\n",
    "    if decoy == True:\n",
    "        amt_decoy_sent +=1\n",
    "amt_decoy_recieved = 0\n",
    "for ind, state, decoy in bob_output_eve:\n",
    "    if decoy == True:\n",
    "        amt_decoy_recieved +=1\n",
    "decoy_channel_eff = (amt_decoy_recieved*2)/amt_decoy_sent\n",
    "print(\"Decoy channel efficiency:\", decoy_channel_eff)"
   ]
  },
  {
   "cell_type": "markdown",
   "metadata": {},
   "source": [
    "Here, it is clear that if Eve is implementing a photon splitting attack because the decoy channel efficiency is consistely 3-4 times larger than the overall channel efficiency. This allows us to tell when a photon splitting attack is occuring even if p2>channel efficiency."
   ]
  }
 ],
 "metadata": {
  "kernelspec": {
   "display_name": "new_env",
   "language": "python",
   "name": "python3"
  },
  "language_info": {
   "codemirror_mode": {
    "name": "ipython",
    "version": 3
   },
   "file_extension": ".py",
   "mimetype": "text/x-python",
   "name": "python",
   "nbconvert_exporter": "python",
   "pygments_lexer": "ipython3",
   "version": "3.11.9"
  }
 },
 "nbformat": 4,
 "nbformat_minor": 2
}
